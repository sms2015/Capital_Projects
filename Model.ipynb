{
 "cells": [
  {
   "cell_type": "code",
   "execution_count": 1,
   "metadata": {
    "collapsed": true
   },
   "outputs": [],
   "source": [
    "%matplotlib inline"
   ]
  },
  {
   "cell_type": "code",
   "execution_count": 2,
   "metadata": {
    "collapsed": true
   },
   "outputs": [],
   "source": [
    "import pandas as pd\n",
    "import numpy as np \n",
    "\n",
    "import matplotlib.pyplot as plt\n",
    "\n",
    "from sklearn.model_selection import train_test_split\n",
    "#from __future__ import division\n",
    "#from imblearn.under_sampling import RandomUnderSampler\n",
    "from sklearn.preprocessing import scale, StandardScaler\n",
    "\n",
    "from sklearn.dummy import DummyClassifier\n",
    "\n",
    "from sklearn import linear_model\n",
    "from sklearn.linear_model import LogisticRegression\n",
    "from sklearn.metrics import mean_squared_error, r2_score, make_scorer\n",
    "from sklearn.metrics import f1_score\n",
    "\n",
    "from sklearn.metrics import accuracy_score\n",
    "from sklearn.metrics import precision_score\n",
    "from sklearn.metrics import recall_score\n",
    "\n",
    "from sklearn.model_selection import ShuffleSplit\n",
    "from sklearn.utils import shuffle\n",
    "from sklearn.model_selection import learning_curve\n",
    "\n",
    "from sklearn.preprocessing import PolynomialFeatures\n",
    "\n",
    "from sklearn.model_selection import validation_curve"
   ]
  },
  {
   "cell_type": "markdown",
   "metadata": {},
   "source": [
    "## Import the Dataset"
   ]
  },
  {
   "cell_type": "code",
   "execution_count": 3,
   "metadata": {
    "collapsed": true
   },
   "outputs": [],
   "source": [
    "#open and read the file into a pandas data frame\n",
    "#read data in from pickle file\n",
    "df_orig = pd.read_pickle('DDC_model_data.pkl')"
   ]
  },
  {
   "cell_type": "code",
   "execution_count": 4,
   "metadata": {},
   "outputs": [
    {
     "data": {
      "text/html": [
       "<div>\n",
       "<style>\n",
       "    .dataframe thead tr:only-child th {\n",
       "        text-align: right;\n",
       "    }\n",
       "\n",
       "    .dataframe thead th {\n",
       "        text-align: left;\n",
       "    }\n",
       "\n",
       "    .dataframe tbody tr th {\n",
       "        vertical-align: top;\n",
       "    }\n",
       "</style>\n",
       "<table border=\"1\" class=\"dataframe\">\n",
       "  <thead>\n",
       "    <tr style=\"text-align: right;\">\n",
       "      <th></th>\n",
       "      <th>ProjectId</th>\n",
       "      <th>Construction</th>\n",
       "      <th>DivisionName</th>\n",
       "      <th>UnitName</th>\n",
       "      <th>Borough</th>\n",
       "      <th>Priority</th>\n",
       "      <th>MultipleFMSIds</th>\n",
       "      <th>DesignFiscalYear</th>\n",
       "      <th>ConstructionFiscalYear</th>\n",
       "      <th>Sponsor_Aging</th>\n",
       "      <th>...</th>\n",
       "      <th>ConstructionContractType_None</th>\n",
       "      <th>ConstructionContractType_Pass Through</th>\n",
       "      <th>ConstructionContractType_Requirement Contract</th>\n",
       "      <th>ConstructionContractType_Requirements TO</th>\n",
       "      <th>ConstructionContractType_Standard Consultant</th>\n",
       "      <th>ConstructionContractType_Standard Design/Const.</th>\n",
       "      <th>ConstructionContractType_MissingValue</th>\n",
       "      <th>SourceSystem_PIMS</th>\n",
       "      <th>SourceSystem_Project Info</th>\n",
       "      <th>SourceSystem_MissingValue</th>\n",
       "    </tr>\n",
       "  </thead>\n",
       "  <tbody>\n",
       "    <tr>\n",
       "      <th>0</th>\n",
       "      <td>ACEDOS501</td>\n",
       "      <td>241.0</td>\n",
       "      <td>Public Buildings</td>\n",
       "      <td>ONENYC</td>\n",
       "      <td>Unknown</td>\n",
       "      <td>Standard</td>\n",
       "      <td>FALSE</td>\n",
       "      <td>MissingValue</td>\n",
       "      <td>MissingValue</td>\n",
       "      <td>0</td>\n",
       "      <td>...</td>\n",
       "      <td>0</td>\n",
       "      <td>0</td>\n",
       "      <td>0</td>\n",
       "      <td>0</td>\n",
       "      <td>0</td>\n",
       "      <td>0</td>\n",
       "      <td>0</td>\n",
       "      <td>1</td>\n",
       "      <td>0</td>\n",
       "      <td>0</td>\n",
       "    </tr>\n",
       "    <tr>\n",
       "      <th>4</th>\n",
       "      <td>ACSLSPCAR</td>\n",
       "      <td>400.0</td>\n",
       "      <td>Public Buildings</td>\n",
       "      <td>CORRECTIONS</td>\n",
       "      <td>Brooklyn</td>\n",
       "      <td>Emergency</td>\n",
       "      <td>FALSE</td>\n",
       "      <td>MissingValue</td>\n",
       "      <td>MissingValue</td>\n",
       "      <td>0</td>\n",
       "      <td>...</td>\n",
       "      <td>0</td>\n",
       "      <td>0</td>\n",
       "      <td>0</td>\n",
       "      <td>0</td>\n",
       "      <td>0</td>\n",
       "      <td>0</td>\n",
       "      <td>0</td>\n",
       "      <td>1</td>\n",
       "      <td>0</td>\n",
       "      <td>0</td>\n",
       "    </tr>\n",
       "    <tr>\n",
       "      <th>6</th>\n",
       "      <td>AGCOVELLO</td>\n",
       "      <td>750.0</td>\n",
       "      <td>Public Buildings</td>\n",
       "      <td>Human Services</td>\n",
       "      <td>MissingValue</td>\n",
       "      <td>Standard</td>\n",
       "      <td>FALSE</td>\n",
       "      <td>MissingValue</td>\n",
       "      <td>MissingValue</td>\n",
       "      <td>1</td>\n",
       "      <td>...</td>\n",
       "      <td>0</td>\n",
       "      <td>0</td>\n",
       "      <td>0</td>\n",
       "      <td>0</td>\n",
       "      <td>0</td>\n",
       "      <td>0</td>\n",
       "      <td>0</td>\n",
       "      <td>1</td>\n",
       "      <td>0</td>\n",
       "      <td>0</td>\n",
       "    </tr>\n",
       "    <tr>\n",
       "      <th>13</th>\n",
       "      <td>BEDA001</td>\n",
       "      <td>728.0</td>\n",
       "      <td>Infrastructure</td>\n",
       "      <td>BROOKLYN</td>\n",
       "      <td>Brooklyn</td>\n",
       "      <td>Critical</td>\n",
       "      <td>FALSE</td>\n",
       "      <td>2015</td>\n",
       "      <td>2016</td>\n",
       "      <td>0</td>\n",
       "      <td>...</td>\n",
       "      <td>0</td>\n",
       "      <td>0</td>\n",
       "      <td>0</td>\n",
       "      <td>1</td>\n",
       "      <td>0</td>\n",
       "      <td>0</td>\n",
       "      <td>0</td>\n",
       "      <td>1</td>\n",
       "      <td>0</td>\n",
       "      <td>0</td>\n",
       "    </tr>\n",
       "    <tr>\n",
       "      <th>17</th>\n",
       "      <td>C114NEWRIP1</td>\n",
       "      <td>209.0</td>\n",
       "      <td>Public Buildings</td>\n",
       "      <td>Corrections</td>\n",
       "      <td>MissingValue</td>\n",
       "      <td>Standard</td>\n",
       "      <td>FALSE</td>\n",
       "      <td>MissingValue</td>\n",
       "      <td>MissingValue</td>\n",
       "      <td>0</td>\n",
       "      <td>...</td>\n",
       "      <td>0</td>\n",
       "      <td>0</td>\n",
       "      <td>0</td>\n",
       "      <td>0</td>\n",
       "      <td>0</td>\n",
       "      <td>0</td>\n",
       "      <td>0</td>\n",
       "      <td>0</td>\n",
       "      <td>1</td>\n",
       "      <td>0</td>\n",
       "    </tr>\n",
       "  </tbody>\n",
       "</table>\n",
       "<p>5 rows × 81 columns</p>\n",
       "</div>"
      ],
      "text/plain": [
       "      ProjectId  Construction      DivisionName        UnitName       Borough  \\\n",
       "0     ACEDOS501         241.0  Public Buildings          ONENYC       Unknown   \n",
       "4     ACSLSPCAR         400.0  Public Buildings     CORRECTIONS      Brooklyn   \n",
       "6     AGCOVELLO         750.0  Public Buildings  Human Services  MissingValue   \n",
       "13      BEDA001         728.0    Infrastructure        BROOKLYN      Brooklyn   \n",
       "17  C114NEWRIP1         209.0  Public Buildings     Corrections  MissingValue   \n",
       "\n",
       "     Priority MultipleFMSIds DesignFiscalYear ConstructionFiscalYear  \\\n",
       "0    Standard          FALSE     MissingValue           MissingValue   \n",
       "4   Emergency          FALSE     MissingValue           MissingValue   \n",
       "6    Standard          FALSE     MissingValue           MissingValue   \n",
       "13   Critical          FALSE             2015                   2016   \n",
       "17   Standard          FALSE     MissingValue           MissingValue   \n",
       "\n",
       "    Sponsor_Aging            ...              ConstructionContractType_None  \\\n",
       "0               0            ...                                          0   \n",
       "4               0            ...                                          0   \n",
       "6               1            ...                                          0   \n",
       "13              0            ...                                          0   \n",
       "17              0            ...                                          0   \n",
       "\n",
       "    ConstructionContractType_Pass Through  \\\n",
       "0                                       0   \n",
       "4                                       0   \n",
       "6                                       0   \n",
       "13                                      0   \n",
       "17                                      0   \n",
       "\n",
       "    ConstructionContractType_Requirement Contract  \\\n",
       "0                                               0   \n",
       "4                                               0   \n",
       "6                                               0   \n",
       "13                                              0   \n",
       "17                                              0   \n",
       "\n",
       "    ConstructionContractType_Requirements TO  \\\n",
       "0                                          0   \n",
       "4                                          0   \n",
       "6                                          0   \n",
       "13                                         1   \n",
       "17                                         0   \n",
       "\n",
       "    ConstructionContractType_Standard Consultant  \\\n",
       "0                                              0   \n",
       "4                                              0   \n",
       "6                                              0   \n",
       "13                                             0   \n",
       "17                                             0   \n",
       "\n",
       "    ConstructionContractType_Standard Design/Const.  \\\n",
       "0                                                 0   \n",
       "4                                                 0   \n",
       "6                                                 0   \n",
       "13                                                0   \n",
       "17                                                0   \n",
       "\n",
       "    ConstructionContractType_MissingValue  SourceSystem_PIMS  \\\n",
       "0                                       0                  1   \n",
       "4                                       0                  1   \n",
       "6                                       0                  1   \n",
       "13                                      0                  1   \n",
       "17                                      0                  0   \n",
       "\n",
       "    SourceSystem_Project Info  SourceSystem_MissingValue  \n",
       "0                           0                          0  \n",
       "4                           0                          0  \n",
       "6                           0                          0  \n",
       "13                          0                          0  \n",
       "17                          1                          0  \n",
       "\n",
       "[5 rows x 81 columns]"
      ]
     },
     "execution_count": 4,
     "metadata": {},
     "output_type": "execute_result"
    }
   ],
   "source": [
    "#view the dataset\n",
    "df_orig.head()"
   ]
  },
  {
   "cell_type": "markdown",
   "metadata": {},
   "source": [
    "# Modeling Decisions"
   ]
  },
  {
   "cell_type": "code",
   "execution_count": 5,
   "metadata": {},
   "outputs": [
    {
     "data": {
      "text/plain": [
       "count     243.000000\n",
       "mean      589.094650\n",
       "std       488.011494\n",
       "min        14.000000\n",
       "25%       305.500000\n",
       "50%       436.000000\n",
       "75%       734.500000\n",
       "max      4385.000000\n",
       "Name: Construction, dtype: float64"
      ]
     },
     "execution_count": 5,
     "metadata": {},
     "output_type": "execute_result"
    }
   ],
   "source": [
    "#view statistics on the target variable\n",
    "df_orig.Construction.describe()"
   ]
  },
  {
   "cell_type": "markdown",
   "metadata": {},
   "source": [
    "** Create a binary 0/1 column based on whether the construction phase exceeds 600 days, rounding up from the 589 days, to predict which projects will exceed this number of days **"
   ]
  },
  {
   "cell_type": "code",
   "execution_count": 6,
   "metadata": {
    "collapsed": true
   },
   "outputs": [],
   "source": [
    "df_orig['Construction_600'] = np.where(df_orig.Construction > 600,1,0)"
   ]
  },
  {
   "cell_type": "code",
   "execution_count": 7,
   "metadata": {},
   "outputs": [
    {
     "data": {
      "text/html": [
       "<div>\n",
       "<style>\n",
       "    .dataframe thead tr:only-child th {\n",
       "        text-align: right;\n",
       "    }\n",
       "\n",
       "    .dataframe thead th {\n",
       "        text-align: left;\n",
       "    }\n",
       "\n",
       "    .dataframe tbody tr th {\n",
       "        vertical-align: top;\n",
       "    }\n",
       "</style>\n",
       "<table border=\"1\" class=\"dataframe\">\n",
       "  <thead>\n",
       "    <tr style=\"text-align: right;\">\n",
       "      <th></th>\n",
       "      <th>ProjectId</th>\n",
       "      <th>Construction</th>\n",
       "      <th>DivisionName</th>\n",
       "      <th>UnitName</th>\n",
       "      <th>Borough</th>\n",
       "      <th>Priority</th>\n",
       "      <th>MultipleFMSIds</th>\n",
       "      <th>DesignFiscalYear</th>\n",
       "      <th>ConstructionFiscalYear</th>\n",
       "      <th>Sponsor_Aging</th>\n",
       "      <th>...</th>\n",
       "      <th>ConstructionContractType_Pass Through</th>\n",
       "      <th>ConstructionContractType_Requirement Contract</th>\n",
       "      <th>ConstructionContractType_Requirements TO</th>\n",
       "      <th>ConstructionContractType_Standard Consultant</th>\n",
       "      <th>ConstructionContractType_Standard Design/Const.</th>\n",
       "      <th>ConstructionContractType_MissingValue</th>\n",
       "      <th>SourceSystem_PIMS</th>\n",
       "      <th>SourceSystem_Project Info</th>\n",
       "      <th>SourceSystem_MissingValue</th>\n",
       "      <th>Construction_600</th>\n",
       "    </tr>\n",
       "  </thead>\n",
       "  <tbody>\n",
       "    <tr>\n",
       "      <th>0</th>\n",
       "      <td>ACEDOS501</td>\n",
       "      <td>241.0</td>\n",
       "      <td>Public Buildings</td>\n",
       "      <td>ONENYC</td>\n",
       "      <td>Unknown</td>\n",
       "      <td>Standard</td>\n",
       "      <td>FALSE</td>\n",
       "      <td>MissingValue</td>\n",
       "      <td>MissingValue</td>\n",
       "      <td>0</td>\n",
       "      <td>...</td>\n",
       "      <td>0</td>\n",
       "      <td>0</td>\n",
       "      <td>0</td>\n",
       "      <td>0</td>\n",
       "      <td>0</td>\n",
       "      <td>0</td>\n",
       "      <td>1</td>\n",
       "      <td>0</td>\n",
       "      <td>0</td>\n",
       "      <td>0</td>\n",
       "    </tr>\n",
       "    <tr>\n",
       "      <th>4</th>\n",
       "      <td>ACSLSPCAR</td>\n",
       "      <td>400.0</td>\n",
       "      <td>Public Buildings</td>\n",
       "      <td>CORRECTIONS</td>\n",
       "      <td>Brooklyn</td>\n",
       "      <td>Emergency</td>\n",
       "      <td>FALSE</td>\n",
       "      <td>MissingValue</td>\n",
       "      <td>MissingValue</td>\n",
       "      <td>0</td>\n",
       "      <td>...</td>\n",
       "      <td>0</td>\n",
       "      <td>0</td>\n",
       "      <td>0</td>\n",
       "      <td>0</td>\n",
       "      <td>0</td>\n",
       "      <td>0</td>\n",
       "      <td>1</td>\n",
       "      <td>0</td>\n",
       "      <td>0</td>\n",
       "      <td>0</td>\n",
       "    </tr>\n",
       "    <tr>\n",
       "      <th>6</th>\n",
       "      <td>AGCOVELLO</td>\n",
       "      <td>750.0</td>\n",
       "      <td>Public Buildings</td>\n",
       "      <td>Human Services</td>\n",
       "      <td>MissingValue</td>\n",
       "      <td>Standard</td>\n",
       "      <td>FALSE</td>\n",
       "      <td>MissingValue</td>\n",
       "      <td>MissingValue</td>\n",
       "      <td>1</td>\n",
       "      <td>...</td>\n",
       "      <td>0</td>\n",
       "      <td>0</td>\n",
       "      <td>0</td>\n",
       "      <td>0</td>\n",
       "      <td>0</td>\n",
       "      <td>0</td>\n",
       "      <td>1</td>\n",
       "      <td>0</td>\n",
       "      <td>0</td>\n",
       "      <td>1</td>\n",
       "    </tr>\n",
       "    <tr>\n",
       "      <th>13</th>\n",
       "      <td>BEDA001</td>\n",
       "      <td>728.0</td>\n",
       "      <td>Infrastructure</td>\n",
       "      <td>BROOKLYN</td>\n",
       "      <td>Brooklyn</td>\n",
       "      <td>Critical</td>\n",
       "      <td>FALSE</td>\n",
       "      <td>2015</td>\n",
       "      <td>2016</td>\n",
       "      <td>0</td>\n",
       "      <td>...</td>\n",
       "      <td>0</td>\n",
       "      <td>0</td>\n",
       "      <td>1</td>\n",
       "      <td>0</td>\n",
       "      <td>0</td>\n",
       "      <td>0</td>\n",
       "      <td>1</td>\n",
       "      <td>0</td>\n",
       "      <td>0</td>\n",
       "      <td>1</td>\n",
       "    </tr>\n",
       "    <tr>\n",
       "      <th>17</th>\n",
       "      <td>C114NEWRIP1</td>\n",
       "      <td>209.0</td>\n",
       "      <td>Public Buildings</td>\n",
       "      <td>Corrections</td>\n",
       "      <td>MissingValue</td>\n",
       "      <td>Standard</td>\n",
       "      <td>FALSE</td>\n",
       "      <td>MissingValue</td>\n",
       "      <td>MissingValue</td>\n",
       "      <td>0</td>\n",
       "      <td>...</td>\n",
       "      <td>0</td>\n",
       "      <td>0</td>\n",
       "      <td>0</td>\n",
       "      <td>0</td>\n",
       "      <td>0</td>\n",
       "      <td>0</td>\n",
       "      <td>0</td>\n",
       "      <td>1</td>\n",
       "      <td>0</td>\n",
       "      <td>0</td>\n",
       "    </tr>\n",
       "  </tbody>\n",
       "</table>\n",
       "<p>5 rows × 82 columns</p>\n",
       "</div>"
      ],
      "text/plain": [
       "      ProjectId  Construction      DivisionName        UnitName       Borough  \\\n",
       "0     ACEDOS501         241.0  Public Buildings          ONENYC       Unknown   \n",
       "4     ACSLSPCAR         400.0  Public Buildings     CORRECTIONS      Brooklyn   \n",
       "6     AGCOVELLO         750.0  Public Buildings  Human Services  MissingValue   \n",
       "13      BEDA001         728.0    Infrastructure        BROOKLYN      Brooklyn   \n",
       "17  C114NEWRIP1         209.0  Public Buildings     Corrections  MissingValue   \n",
       "\n",
       "     Priority MultipleFMSIds DesignFiscalYear ConstructionFiscalYear  \\\n",
       "0    Standard          FALSE     MissingValue           MissingValue   \n",
       "4   Emergency          FALSE     MissingValue           MissingValue   \n",
       "6    Standard          FALSE     MissingValue           MissingValue   \n",
       "13   Critical          FALSE             2015                   2016   \n",
       "17   Standard          FALSE     MissingValue           MissingValue   \n",
       "\n",
       "    Sponsor_Aging        ...         ConstructionContractType_Pass Through  \\\n",
       "0               0        ...                                             0   \n",
       "4               0        ...                                             0   \n",
       "6               1        ...                                             0   \n",
       "13              0        ...                                             0   \n",
       "17              0        ...                                             0   \n",
       "\n",
       "    ConstructionContractType_Requirement Contract  \\\n",
       "0                                               0   \n",
       "4                                               0   \n",
       "6                                               0   \n",
       "13                                              0   \n",
       "17                                              0   \n",
       "\n",
       "    ConstructionContractType_Requirements TO  \\\n",
       "0                                          0   \n",
       "4                                          0   \n",
       "6                                          0   \n",
       "13                                         1   \n",
       "17                                         0   \n",
       "\n",
       "    ConstructionContractType_Standard Consultant  \\\n",
       "0                                              0   \n",
       "4                                              0   \n",
       "6                                              0   \n",
       "13                                             0   \n",
       "17                                             0   \n",
       "\n",
       "    ConstructionContractType_Standard Design/Const.  \\\n",
       "0                                                 0   \n",
       "4                                                 0   \n",
       "6                                                 0   \n",
       "13                                                0   \n",
       "17                                                0   \n",
       "\n",
       "    ConstructionContractType_MissingValue  SourceSystem_PIMS  \\\n",
       "0                                       0                  1   \n",
       "4                                       0                  1   \n",
       "6                                       0                  1   \n",
       "13                                      0                  1   \n",
       "17                                      0                  0   \n",
       "\n",
       "    SourceSystem_Project Info  SourceSystem_MissingValue  Construction_600  \n",
       "0                           0                          0                 0  \n",
       "4                           0                          0                 0  \n",
       "6                           0                          0                 1  \n",
       "13                          0                          0                 1  \n",
       "17                          1                          0                 0  \n",
       "\n",
       "[5 rows x 82 columns]"
      ]
     },
     "execution_count": 7,
     "metadata": {},
     "output_type": "execute_result"
    }
   ],
   "source": [
    "df_orig.head()"
   ]
  },
  {
   "cell_type": "markdown",
   "metadata": {},
   "source": [
    "# Set up the target column"
   ]
  },
  {
   "cell_type": "code",
   "execution_count": 8,
   "metadata": {
    "collapsed": true
   },
   "outputs": [],
   "source": [
    "target_col = 'Construction_600'"
   ]
  },
  {
   "cell_type": "code",
   "execution_count": 9,
   "metadata": {
    "collapsed": true
   },
   "outputs": [],
   "source": [
    "#rename the dataframe df to make it easier to work with\n",
    "df = df_orig"
   ]
  },
  {
   "cell_type": "code",
   "execution_count": 10,
   "metadata": {},
   "outputs": [
    {
     "data": {
      "text/plain": [
       "0.358"
      ]
     },
     "execution_count": 10,
     "metadata": {},
     "output_type": "execute_result"
    }
   ],
   "source": [
    "#what is the split of the target column\n",
    "float(format(sum(df.Construction_600)/len(df),'.4f'))"
   ]
  },
  {
   "cell_type": "markdown",
   "metadata": {},
   "source": [
    "** We want to catch all projects that might have long project durations even if we catch a few false positives, so we care more about recall ** "
   ]
  },
  {
   "cell_type": "markdown",
   "metadata": {},
   "source": [
    "## Identify Features (X) and target (y)"
   ]
  },
  {
   "cell_type": "code",
   "execution_count": 11,
   "metadata": {
    "collapsed": true
   },
   "outputs": [],
   "source": [
    "#list(df)"
   ]
  },
  {
   "cell_type": "code",
   "execution_count": 12,
   "metadata": {
    "collapsed": true
   },
   "outputs": [],
   "source": [
    "#Identify the feature names\n",
    "features = [\n",
    " 'ProjectType_Feasibility Study',\n",
    " 'ProjectType_New Construction',\n",
    " 'ProjectType_Other',\n",
    " 'ProjectType_Ped Ramps',\n",
    " 'ProjectType_Renovation',\n",
    " 'ProjectType_Sewer',\n",
    " 'ProjectType_Sidewalks',\n",
    " 'ProjectType_Street',\n",
    " 'ProjectType_Street Reconstruction',\n",
    " 'ProjectType_Street Resurfacing',\n",
    " 'ProjectType_Upgrade',\n",
    " 'ProjectType_Water',\n",
    " 'ProjectType_MissingValue',\n",
    "]"
   ]
  },
  {
   "cell_type": "code",
   "execution_count": 13,
   "metadata": {
    "collapsed": true
   },
   "outputs": [],
   "source": [
    "#set X and y\n",
    "X = df.loc[:,features]\n",
    "y = df.loc[:,[target_col]]"
   ]
  },
  {
   "cell_type": "code",
   "execution_count": 14,
   "metadata": {},
   "outputs": [
    {
     "data": {
      "text/html": [
       "<div>\n",
       "<style>\n",
       "    .dataframe thead tr:only-child th {\n",
       "        text-align: right;\n",
       "    }\n",
       "\n",
       "    .dataframe thead th {\n",
       "        text-align: left;\n",
       "    }\n",
       "\n",
       "    .dataframe tbody tr th {\n",
       "        vertical-align: top;\n",
       "    }\n",
       "</style>\n",
       "<table border=\"1\" class=\"dataframe\">\n",
       "  <thead>\n",
       "    <tr style=\"text-align: right;\">\n",
       "      <th></th>\n",
       "      <th>ProjectType_Feasibility Study</th>\n",
       "      <th>ProjectType_New Construction</th>\n",
       "      <th>ProjectType_Other</th>\n",
       "      <th>ProjectType_Ped Ramps</th>\n",
       "      <th>ProjectType_Renovation</th>\n",
       "      <th>ProjectType_Sewer</th>\n",
       "      <th>ProjectType_Sidewalks</th>\n",
       "      <th>ProjectType_Street</th>\n",
       "      <th>ProjectType_Street Reconstruction</th>\n",
       "      <th>ProjectType_Street Resurfacing</th>\n",
       "      <th>ProjectType_Upgrade</th>\n",
       "      <th>ProjectType_Water</th>\n",
       "      <th>ProjectType_MissingValue</th>\n",
       "    </tr>\n",
       "  </thead>\n",
       "  <tbody>\n",
       "    <tr>\n",
       "      <th>0</th>\n",
       "      <td>0</td>\n",
       "      <td>0</td>\n",
       "      <td>0</td>\n",
       "      <td>0</td>\n",
       "      <td>0</td>\n",
       "      <td>0</td>\n",
       "      <td>0</td>\n",
       "      <td>0</td>\n",
       "      <td>0</td>\n",
       "      <td>0</td>\n",
       "      <td>1</td>\n",
       "      <td>0</td>\n",
       "      <td>0</td>\n",
       "    </tr>\n",
       "    <tr>\n",
       "      <th>4</th>\n",
       "      <td>0</td>\n",
       "      <td>0</td>\n",
       "      <td>0</td>\n",
       "      <td>0</td>\n",
       "      <td>1</td>\n",
       "      <td>0</td>\n",
       "      <td>0</td>\n",
       "      <td>0</td>\n",
       "      <td>0</td>\n",
       "      <td>0</td>\n",
       "      <td>0</td>\n",
       "      <td>0</td>\n",
       "      <td>0</td>\n",
       "    </tr>\n",
       "    <tr>\n",
       "      <th>6</th>\n",
       "      <td>0</td>\n",
       "      <td>0</td>\n",
       "      <td>0</td>\n",
       "      <td>0</td>\n",
       "      <td>1</td>\n",
       "      <td>0</td>\n",
       "      <td>0</td>\n",
       "      <td>0</td>\n",
       "      <td>0</td>\n",
       "      <td>0</td>\n",
       "      <td>0</td>\n",
       "      <td>0</td>\n",
       "      <td>0</td>\n",
       "    </tr>\n",
       "    <tr>\n",
       "      <th>13</th>\n",
       "      <td>0</td>\n",
       "      <td>0</td>\n",
       "      <td>0</td>\n",
       "      <td>0</td>\n",
       "      <td>0</td>\n",
       "      <td>0</td>\n",
       "      <td>0</td>\n",
       "      <td>0</td>\n",
       "      <td>0</td>\n",
       "      <td>0</td>\n",
       "      <td>0</td>\n",
       "      <td>1</td>\n",
       "      <td>0</td>\n",
       "    </tr>\n",
       "    <tr>\n",
       "      <th>17</th>\n",
       "      <td>0</td>\n",
       "      <td>1</td>\n",
       "      <td>0</td>\n",
       "      <td>0</td>\n",
       "      <td>0</td>\n",
       "      <td>0</td>\n",
       "      <td>0</td>\n",
       "      <td>0</td>\n",
       "      <td>0</td>\n",
       "      <td>0</td>\n",
       "      <td>0</td>\n",
       "      <td>0</td>\n",
       "      <td>0</td>\n",
       "    </tr>\n",
       "  </tbody>\n",
       "</table>\n",
       "</div>"
      ],
      "text/plain": [
       "    ProjectType_Feasibility Study  ProjectType_New Construction  \\\n",
       "0                               0                             0   \n",
       "4                               0                             0   \n",
       "6                               0                             0   \n",
       "13                              0                             0   \n",
       "17                              0                             1   \n",
       "\n",
       "    ProjectType_Other  ProjectType_Ped Ramps  ProjectType_Renovation  \\\n",
       "0                   0                      0                       0   \n",
       "4                   0                      0                       1   \n",
       "6                   0                      0                       1   \n",
       "13                  0                      0                       0   \n",
       "17                  0                      0                       0   \n",
       "\n",
       "    ProjectType_Sewer  ProjectType_Sidewalks  ProjectType_Street  \\\n",
       "0                   0                      0                   0   \n",
       "4                   0                      0                   0   \n",
       "6                   0                      0                   0   \n",
       "13                  0                      0                   0   \n",
       "17                  0                      0                   0   \n",
       "\n",
       "    ProjectType_Street Reconstruction  ProjectType_Street Resurfacing  \\\n",
       "0                                   0                               0   \n",
       "4                                   0                               0   \n",
       "6                                   0                               0   \n",
       "13                                  0                               0   \n",
       "17                                  0                               0   \n",
       "\n",
       "    ProjectType_Upgrade  ProjectType_Water  ProjectType_MissingValue  \n",
       "0                     1                  0                         0  \n",
       "4                     0                  0                         0  \n",
       "6                     0                  0                         0  \n",
       "13                    0                  1                         0  \n",
       "17                    0                  0                         0  "
      ]
     },
     "execution_count": 14,
     "metadata": {},
     "output_type": "execute_result"
    }
   ],
   "source": [
    "X.head()"
   ]
  },
  {
   "cell_type": "code",
   "execution_count": 15,
   "metadata": {},
   "outputs": [
    {
     "data": {
      "text/html": [
       "<div>\n",
       "<style>\n",
       "    .dataframe thead tr:only-child th {\n",
       "        text-align: right;\n",
       "    }\n",
       "\n",
       "    .dataframe thead th {\n",
       "        text-align: left;\n",
       "    }\n",
       "\n",
       "    .dataframe tbody tr th {\n",
       "        vertical-align: top;\n",
       "    }\n",
       "</style>\n",
       "<table border=\"1\" class=\"dataframe\">\n",
       "  <thead>\n",
       "    <tr style=\"text-align: right;\">\n",
       "      <th></th>\n",
       "      <th>Construction_600</th>\n",
       "    </tr>\n",
       "  </thead>\n",
       "  <tbody>\n",
       "    <tr>\n",
       "      <th>0</th>\n",
       "      <td>0</td>\n",
       "    </tr>\n",
       "    <tr>\n",
       "      <th>4</th>\n",
       "      <td>0</td>\n",
       "    </tr>\n",
       "    <tr>\n",
       "      <th>6</th>\n",
       "      <td>1</td>\n",
       "    </tr>\n",
       "    <tr>\n",
       "      <th>13</th>\n",
       "      <td>1</td>\n",
       "    </tr>\n",
       "    <tr>\n",
       "      <th>17</th>\n",
       "      <td>0</td>\n",
       "    </tr>\n",
       "  </tbody>\n",
       "</table>\n",
       "</div>"
      ],
      "text/plain": [
       "    Construction_600\n",
       "0                  0\n",
       "4                  0\n",
       "6                  1\n",
       "13                 1\n",
       "17                 0"
      ]
     },
     "execution_count": 15,
     "metadata": {},
     "output_type": "execute_result"
    }
   ],
   "source": [
    "y.head()"
   ]
  },
  {
   "cell_type": "markdown",
   "metadata": {},
   "source": [
    "## Split into train, validation, and test sets"
   ]
  },
  {
   "cell_type": "code",
   "execution_count": 16,
   "metadata": {
    "collapsed": true
   },
   "outputs": [],
   "source": [
    "#set the random seed\n",
    "rand = 20"
   ]
  },
  {
   "cell_type": "code",
   "execution_count": 17,
   "metadata": {
    "collapsed": true
   },
   "outputs": [],
   "source": [
    "#split data into training and test sets\n",
    "training_X, test_X, \\\n",
    "training_y, test_y = train_test_split(X, y, test_size=0.2,random_state = rand)"
   ]
  },
  {
   "cell_type": "code",
   "execution_count": 18,
   "metadata": {},
   "outputs": [
    {
     "data": {
      "text/plain": [
       "(194, 49)"
      ]
     },
     "execution_count": 18,
     "metadata": {},
     "output_type": "execute_result"
    }
   ],
   "source": [
    "len(training_X), len(test_X)"
   ]
  },
  {
   "cell_type": "code",
   "execution_count": 19,
   "metadata": {},
   "outputs": [
    {
     "data": {
      "text/plain": [
       "(194, 49)"
      ]
     },
     "execution_count": 19,
     "metadata": {},
     "output_type": "execute_result"
    }
   ],
   "source": [
    "len(training_y), len(test_y)"
   ]
  },
  {
   "cell_type": "markdown",
   "metadata": {},
   "source": [
    "# Scale the features"
   ]
  },
  {
   "cell_type": "code",
   "execution_count": 20,
   "metadata": {},
   "outputs": [],
   "source": [
    "#use the training set to create a standard scaler for validation and test sets\n",
    "#this scaler finds the mean and standard deviation of the train set\n",
    "scaler = StandardScaler().fit(training_X)"
   ]
  },
  {
   "cell_type": "code",
   "execution_count": 21,
   "metadata": {},
   "outputs": [
    {
     "data": {
      "text/plain": [
       "((194, 13), (49, 13))"
      ]
     },
     "execution_count": 21,
     "metadata": {},
     "output_type": "execute_result"
    }
   ],
   "source": [
    "#transform the features for all sets using the scaler created from the train set\n",
    "#this will subtract the mean to center the data and divide by the standard deviation\n",
    "#to scale it\n",
    "training_X_scaled = scaler.transform(training_X)\n",
    "test_X_scaled = scaler.transform(test_X)\n",
    "training_X_scaled.shape, test_X_scaled.shape"
   ]
  },
  {
   "cell_type": "markdown",
   "metadata": {},
   "source": [
    "** The classes are relatively balanced so there is no need to rebalance in this case **"
   ]
  },
  {
   "cell_type": "markdown",
   "metadata": {},
   "source": [
    "# Baseline Model"
   ]
  },
  {
   "cell_type": "code",
   "execution_count": 22,
   "metadata": {
    "collapsed": true
   },
   "outputs": [],
   "source": [
    "#create the baseline classifier: generates predictions by respecting the training set’s class distribution\n",
    "clf_B = DummyClassifier(strategy='stratified', random_state=rand)"
   ]
  },
  {
   "cell_type": "code",
   "execution_count": 23,
   "metadata": {},
   "outputs": [
    {
     "data": {
      "text/plain": [
       "DummyClassifier(constant=None, random_state=20, strategy='stratified')"
      ]
     },
     "execution_count": 23,
     "metadata": {},
     "output_type": "execute_result"
    }
   ],
   "source": [
    "#fit the regression model\n",
    "clf_B.fit(test_X_scaled, test_y.iloc[:,0])"
   ]
  },
  {
   "cell_type": "code",
   "execution_count": 24,
   "metadata": {
    "collapsed": true
   },
   "outputs": [],
   "source": [
    "#predict the target values of the validation set using the model\n",
    "baseline_test_y_pred = clf_B.predict(test_X_scaled)"
   ]
  },
  {
   "cell_type": "markdown",
   "metadata": {},
   "source": [
    "** Set Baseline metrics on the test set:  \n",
    "The F1-score takes into account both precision and recall so this will be used as the evaluation metric for all models **"
   ]
  },
  {
   "cell_type": "code",
   "execution_count": 25,
   "metadata": {},
   "outputs": [
    {
     "data": {
      "text/plain": [
       "0.39"
      ]
     },
     "execution_count": 25,
     "metadata": {},
     "output_type": "execute_result"
    }
   ],
   "source": [
    "#Evaluate the F1 score: F1 = 2 * (precision * recall) / (precision + recall)\n",
    "#help(f1_score)\n",
    "f1_B = float(\"%.2f\" % f1_score(test_y,baseline_test_y_pred))\n",
    "f1_B"
   ]
  },
  {
   "cell_type": "code",
   "execution_count": 26,
   "metadata": {},
   "outputs": [
    {
     "data": {
      "text/plain": [
       "(0.39, 0.39, 0.55)"
      ]
     },
     "execution_count": 26,
     "metadata": {},
     "output_type": "execute_result"
    }
   ],
   "source": [
    "#calculate precision, recall and accuracy\n",
    "p_B = float(\"%.2f\" % precision_score(test_y, baseline_test_y_pred))\n",
    "r_B = float(\"%.2f\" % recall_score(test_y, baseline_test_y_pred))\n",
    "a_B  = float(\"%.2f\" % accuracy_score(test_y, baseline_test_y_pred))\n",
    "p_B , r_B,  a_B"
   ]
  },
  {
   "cell_type": "markdown",
   "metadata": {},
   "source": [
    "# Initial implementation: Logistic Regression with Scaled Features, No Regularization"
   ]
  },
  {
   "cell_type": "code",
   "execution_count": 27,
   "metadata": {},
   "outputs": [
    {
     "data": {
      "text/plain": [
       "'\\ndefault values\\nLogisticRegression(penalty=’l2’, dual=False, tol=0.0001, C=1.0, fit_intercept=True, intercept_scaling=1, \\n                   class_weight= None, random_state=None, solver=’liblinear’,max_iter=100, \\n                   multi_class=’ovr’, verbose=0, warm_start=False, n_jobs=1)\\n\\nfor imbalanced classes, can adjust class_weight= {0:0.1, 1:0.9}\\n'"
      ]
     },
     "execution_count": 27,
     "metadata": {},
     "output_type": "execute_result"
    }
   ],
   "source": [
    "#create a logistic regression classifier\n",
    "#If C is set to 0 that is equivalent to no regularization\n",
    "clf = LogisticRegression(penalty='l2',C=0.1,random_state=rand)\n",
    "\n",
    "'''\n",
    "default values\n",
    "LogisticRegression(penalty=’l2’, dual=False, tol=0.0001, C=1.0, fit_intercept=True, intercept_scaling=1, \n",
    "                   class_weight= None, random_state=None, solver=’liblinear’,max_iter=100, \n",
    "                   multi_class=’ovr’, verbose=0, warm_start=False, n_jobs=1)\n",
    "\n",
    "for imbalanced classes, can adjust class_weight= {0:0.1, 1:0.9}\n",
    "'''"
   ]
  },
  {
   "cell_type": "code",
   "execution_count": 28,
   "metadata": {},
   "outputs": [
    {
     "data": {
      "text/plain": [
       "LogisticRegression(C=0.1, class_weight=None, dual=False, fit_intercept=True,\n",
       "          intercept_scaling=1, max_iter=100, multi_class='ovr', n_jobs=1,\n",
       "          penalty='l2', random_state=20, solver='liblinear', tol=0.0001,\n",
       "          verbose=0, warm_start=False)"
      ]
     },
     "execution_count": 28,
     "metadata": {},
     "output_type": "execute_result"
    }
   ],
   "source": [
    "#fit the regression model\n",
    "clf.fit(training_X_scaled, training_y.iloc[:,0])"
   ]
  },
  {
   "cell_type": "code",
   "execution_count": 29,
   "metadata": {},
   "outputs": [
    {
     "name": "stdout",
     "output_type": "stream",
     "text": [
      "Intercept: \n",
      " [-0.50682249]\n",
      "Coefficients: \n",
      " [[ 0.          0.29779678 -0.08668989 -0.05467236 -0.06635898  0.0493576\n",
      "  -0.21859604  0.          0.30513793 -0.09277631 -0.16324342  0.13617605\n",
      "   0.        ]]\n"
     ]
    }
   ],
   "source": [
    "#get intercept and coefficients\n",
    "print('Intercept: \\n', clf.intercept_)\n",
    "print('Coefficients: \\n', clf.coef_)"
   ]
  },
  {
   "cell_type": "markdown",
   "metadata": {},
   "source": [
    "# Evaluate the performance of the model on the test set"
   ]
  },
  {
   "cell_type": "markdown",
   "metadata": {},
   "source": [
    "** Use K-fold Cross Validation to Assess Model Performance and evaluate bias vs variance **"
   ]
  },
  {
   "cell_type": "code",
   "execution_count": 30,
   "metadata": {},
   "outputs": [
    {
     "data": {
      "text/plain": [
       "range(16, 160, 16)"
      ]
     },
     "execution_count": 30,
     "metadata": {},
     "output_type": "execute_result"
    }
   ],
   "source": [
    "#get the list of the training set sizes\n",
    "s = 5  # k = 5\n",
    "cv = ShuffleSplit(n_splits=10, test_size=0.2, random_state=rand)\n",
    "m = len(training_X_scaled)  #number of training examples\n",
    "m_s = m/s*(s-1)\n",
    "m_s = int(round(m_s,0))\n",
    "l = range(0,m_s)\n",
    "train_size = l[0::int(round(m_s/10,0))][1:]\n",
    "train_size"
   ]
  },
  {
   "cell_type": "code",
   "execution_count": 31,
   "metadata": {
    "collapsed": true
   },
   "outputs": [],
   "source": [
    "#set up f1_score as a scoring metric\n",
    "f1_scorer = make_scorer(f1_score)"
   ]
  },
  {
   "cell_type": "code",
   "execution_count": 32,
   "metadata": {},
   "outputs": [
    {
     "data": {
      "text/plain": [
       "\"\\nNotes on underfitting(variance) vs. underfitting(bias)\\nOverfit - Lines don't quite come together;\\nUnderfit - Lines come together but at too low an F1 score;\\nJust Right - Lines come together with a reasonable F1 score.\\n\\nHigh Bias: f1_score will be low for the training set and the validation set   \\nHigh Variance: f1_score will be lower for the validation set than the training set \\nAddressing high bias: additional features, adding polynomial features, decreasing the regularization parameter lambda  \\nAddressing high variance: additional training examples, smaller set of features, increase the regularization parameter lambda\\n\""
      ]
     },
     "execution_count": 32,
     "metadata": {},
     "output_type": "execute_result"
    }
   ],
   "source": [
    "def learn_curve(model,X,y,train_size):\n",
    "    #Use full training set (train + validation and implement k-folds)\n",
    "    #create a learning curve: http://scikit-learn.org/stable/modules/generated/sklearn.model_selection.learning_curve.html#sklearn.model_selection.learning_curve\n",
    "    train_sizes, train_scores, validation_scores = learning_curve(\n",
    "        model, X, y, train_sizes=train_size, cv = cv, scoring = f1_scorer)\n",
    "    #get the mean of the training and validation scores\n",
    "    train_scores_mean = np.mean(train_scores, axis=1)\n",
    "    validation_scores_mean = np.mean(validation_scores, axis=1)\n",
    "    #plot the chart\n",
    "    plt.figure()\n",
    "    plt.title('Learning Curve')\n",
    "    plt.xlabel(\"Training examples\")\n",
    "    plt.ylabel(\"f1_score\")\n",
    "    plt.ticklabel_format(useOffset=False,style='plain')\n",
    "    \n",
    "    plt.grid()\n",
    "\n",
    "    plt.plot(train_sizes, train_scores_mean, 'o-', color=\"r\",label=\"Training score\")\n",
    "    plt.plot(train_sizes, validation_scores_mean, 'o-', color=\"g\",label=\"Cross-validation score\")\n",
    "\n",
    "    plt.legend(loc=\"best\")\n",
    "    return float(\"%.2f\" % np.mean(validation_scores_mean))\n",
    "\n",
    "'''\n",
    "Notes on underfitting(variance) vs. underfitting(bias)\n",
    "Overfit - Lines don't quite come together;\n",
    "Underfit - Lines come together but at too low an F1 score;\n",
    "Just Right - Lines come together with a reasonable F1 score.\n",
    "\n",
    "High Bias: f1_score will be low for the training set and the validation set   \n",
    "High Variance: f1_score will be lower for the validation set than the training set \n",
    "Addressing high bias: additional features, adding polynomial features, decreasing the regularization parameter lambda  \n",
    "Addressing high variance: additional training examples, smaller set of features, increase the regularization parameter lambda\n",
    "'''"
   ]
  },
  {
   "cell_type": "code",
   "execution_count": 33,
   "metadata": {},
   "outputs": [
    {
     "data": {
      "text/plain": [
       "0.42"
      ]
     },
     "execution_count": 33,
     "metadata": {},
     "output_type": "execute_result"
    },
    {
     "data": {
      "image/png": "[encoded data removed]",
      "text/plain": [
       "<matplotlib.figure.Figure at 0xd4941b5358>"
      ]
     },
     "metadata": {},
     "output_type": "display_data"
    }
   ],
   "source": [
    "learn_curve(clf, training_X_scaled, training_y.iloc[:,0], train_size)"
   ]
  },
  {
   "cell_type": "markdown",
   "metadata": {},
   "source": [
    "** The baseline F1 score is 0.39 on the test set, the mean F1 score of the cross validation is 0.42 which is slightly better than the baseline. However the lines don't quite come together which implies overfitting/high variance. Regularization may result in a better model **"
   ]
  },
  {
   "cell_type": "markdown",
   "metadata": {},
   "source": [
    "# Adjust regularization to account for overfitting\n",
    "Alpha is the parameter that dictates the strength of the regularization/smoothing"
   ]
  },
  {
   "cell_type": "code",
   "execution_count": 34,
   "metadata": {},
   "outputs": [
    {
     "data": {
      "text/plain": [
       "array([ 0.5,  1. ,  1.5,  2. ,  2.5,  3. ,  3.5,  4. ,  4.5])"
      ]
     },
     "execution_count": 34,
     "metadata": {},
     "output_type": "execute_result"
    }
   ],
   "source": [
    "#set up the range for alpha values\n",
    "alpha_range = np.arange(0.5, 5, 0.5)\n",
    "alpha_range"
   ]
  },
  {
   "cell_type": "code",
   "execution_count": 35,
   "metadata": {
    "collapsed": true
   },
   "outputs": [],
   "source": [
    "def valid_curve(model,X,y):\n",
    "    #Use full training set (train + validation and implement k-folds)\n",
    "    #create a learning curve: http://scikit-learn.org/stable/modules/generated/sklearn.model_selection.learning_curve.html#sklearn.model_selection.learning_curve\n",
    "    train_scores, validation_scores = validation_curve(\n",
    "        model, X, y, param_name = \"C\", \n",
    "        param_range = alpha_range, groups=None, cv=cv, \n",
    "        scoring= f1_scorer, n_jobs=1, pre_dispatch='all', verbose=0)\n",
    "    #get the mean of the training and validation scores\n",
    "    train_scores_mean = np.mean(train_scores, axis=1)\n",
    "    validation_scores_mean = np.mean(validation_scores, axis=1)\n",
    "    #plot the chart\n",
    "    plt.figure()\n",
    "    plt.title('Validation Curve')\n",
    "    plt.xlabel(\"Alpha - regularization strength\")\n",
    "    plt.ylabel(\"f1_score\")\n",
    "    plt.ticklabel_format(useOffset=False,style='plain')\n",
    "\n",
    "    plt.grid()\n",
    "\n",
    "    plt.plot(alpha_range, train_scores_mean, 'o-', color=\"r\",label=\"Training score\")\n",
    "    plt.plot(alpha_range, validation_scores_mean, 'o-', color=\"g\",label=\"Cross-validation score\")\n",
    "\n",
    "    plt.legend(loc=\"best\")\n",
    "    return float(\"%.2f\" % np.mean(validation_scores_mean))"
   ]
  },
  {
   "cell_type": "code",
   "execution_count": 36,
   "metadata": {},
   "outputs": [
    {
     "data": {
      "text/plain": [
       "0.46"
      ]
     },
     "execution_count": 36,
     "metadata": {},
     "output_type": "execute_result"
    },
    {
     "data": {
      "image/png": "[encoded data removed]",
      "text/plain": [
       "<matplotlib.figure.Figure at 0xd4943799b0>"
      ]
     },
     "metadata": {},
     "output_type": "display_data"
    }
   ],
   "source": [
    "#plot the validation curve with a range of alpha values\n",
    "valid_curve(clf, training_X, training_y.iloc[:,0].values)"
   ]
  },
  {
   "cell_type": "markdown",
   "metadata": {},
   "source": [
    "** The mean F2-score is 0.46 for the model with L2 Regularization and an alpha of 1.5, vs. 0.42 for the model without regularization and 0.39 for the baseline. This model appears to be an improvement over the baseline.**"
   ]
  },
  {
   "cell_type": "markdown",
   "metadata": {},
   "source": [
    "### Final evaluation on the test set"
   ]
  },
  {
   "cell_type": "markdown",
   "metadata": {
    "collapsed": true
   },
   "source": [
    "Evaluate the models:  \n",
    "    Baseline:  F1-score = 0.39, p = 0.39, r = 0.39, a = 0.55  \n",
    "    Model 1: Logistic regression, no regularization  \n",
    "    Model 2: Linear with polynomials, L2 regularization, alpha = 1.5  "
   ]
  },
  {
   "cell_type": "markdown",
   "metadata": {
    "collapsed": true
   },
   "source": [
    "** Evaluate Model 1 on the test set **"
   ]
  },
  {
   "cell_type": "code",
   "execution_count": 37,
   "metadata": {},
   "outputs": [],
   "source": [
    "#predict the target values of the validation set using the model\n",
    "M1_test_y_pred = clf.predict(test_X_scaled)"
   ]
  },
  {
   "cell_type": "code",
   "execution_count": 38,
   "metadata": {},
   "outputs": [
    {
     "data": {
      "text/plain": [
       "0.29"
      ]
     },
     "execution_count": 38,
     "metadata": {},
     "output_type": "execute_result"
    }
   ],
   "source": [
    "#Evaluate the MSE on the test set for the best models\n",
    "float(\"%.2f\" % f1_score(test_y, M1_test_y_pred))"
   ]
  },
  {
   "cell_type": "code",
   "execution_count": 39,
   "metadata": {},
   "outputs": [
    {
     "data": {
      "text/plain": [
       "(0.4, 0.22, 0.59)"
      ]
     },
     "execution_count": 39,
     "metadata": {},
     "output_type": "execute_result"
    }
   ],
   "source": [
    "#calculate precision, recall and accuracy\n",
    "p1 = float(\"%.2f\" % precision_score(test_y, M1_test_y_pred))\n",
    "r1 = float(\"%.2f\" % recall_score(test_y, M1_test_y_pred))\n",
    "a1 = float(\"%.2f\" % accuracy_score(test_y, M1_test_y_pred))\n",
    "p1 , r1,  a1"
   ]
  },
  {
   "cell_type": "markdown",
   "metadata": {},
   "source": [
    "The F1-score is only 0.29, reflecting lower recall. The cross validation indicated that this model was slightly better than the Baseline, but given the result on the test set, it appears that the model is overfitting. A larger number of observations might improve this result."
   ]
  },
  {
   "cell_type": "markdown",
   "metadata": {},
   "source": [
    "#### Evaluate Model 2 on the test set"
   ]
  },
  {
   "cell_type": "code",
   "execution_count": 40,
   "metadata": {
    "collapsed": true
   },
   "outputs": [],
   "source": [
    "clf2 = LogisticRegression(penalty='l2',C=1.5,random_state=rand)"
   ]
  },
  {
   "cell_type": "code",
   "execution_count": 41,
   "metadata": {},
   "outputs": [
    {
     "data": {
      "text/plain": [
       "LogisticRegression(C=1.5, class_weight=None, dual=False, fit_intercept=True,\n",
       "          intercept_scaling=1, max_iter=100, multi_class='ovr', n_jobs=1,\n",
       "          penalty='l2', random_state=20, solver='liblinear', tol=0.0001,\n",
       "          verbose=0, warm_start=False)"
      ]
     },
     "execution_count": 41,
     "metadata": {},
     "output_type": "execute_result"
    }
   ],
   "source": [
    "#fit the regression model\n",
    "clf2.fit(training_X_scaled, training_y.iloc[:,0])"
   ]
  },
  {
   "cell_type": "code",
   "execution_count": 42,
   "metadata": {},
   "outputs": [],
   "source": [
    "#predict the target values of the validation set using the model\n",
    "M2_test_y_pred = clf2.predict(test_X_scaled)"
   ]
  },
  {
   "cell_type": "code",
   "execution_count": 43,
   "metadata": {},
   "outputs": [
    {
     "data": {
      "text/plain": [
       "0.29"
      ]
     },
     "execution_count": 43,
     "metadata": {},
     "output_type": "execute_result"
    }
   ],
   "source": [
    "#Evaluate the MSE on the test set for the best models\n",
    "float(\"%.2f\" % f1_score(test_y, M2_test_y_pred))"
   ]
  },
  {
   "cell_type": "code",
   "execution_count": 44,
   "metadata": {},
   "outputs": [
    {
     "data": {
      "text/plain": [
       "(0.4, 0.22, 0.59)"
      ]
     },
     "execution_count": 44,
     "metadata": {},
     "output_type": "execute_result"
    }
   ],
   "source": [
    "#calculate precision, recall and accuracy\n",
    "p1 = float(\"%.2f\" % precision_score(test_y, M2_test_y_pred))\n",
    "r1 = float(\"%.2f\" % recall_score(test_y, M2_test_y_pred))\n",
    "a1 = float(\"%.2f\" % accuracy_score(test_y, M2_test_y_pred))\n",
    "p1 , r1,  a1"
   ]
  },
  {
   "cell_type": "markdown",
   "metadata": {},
   "source": [
    "The F1-score is only 0.29, reflecting lower recall. The cross validation indicated that this model was slightly better than the Baseline and the model without regularization, but given the result on the test set, it appears that the model is overfitting. A larger number of observations might improve the result."
   ]
  },
  {
   "cell_type": "markdown",
   "metadata": {
    "collapsed": true
   },
   "source": [
    "# Observations"
   ]
  },
  {
   "cell_type": "markdown",
   "metadata": {},
   "source": [
    "** The F1 score on the test set is lower than the cross validation which implies overfitting. There are other possible models that could be tried but given the small size of the sample dataset these would likely not provide improved results **"
   ]
  },
  {
   "cell_type": "code",
   "execution_count": null,
   "metadata": {
    "collapsed": true
   },
   "outputs": [],
   "source": []
  }
 ],
 "metadata": {
  "anaconda-cloud": {},
  "kernelspec": {
   "display_name": "Python 3",
   "language": "python",
   "name": "python3"
  },
  "language_info": {
   "codemirror_mode": {
    "name": "ipython",
    "version": 3
   },
   "file_extension": ".py",
   "mimetype": "text/x-python",
   "name": "python",
   "nbconvert_exporter": "python",
   "pygments_lexer": "ipython3",
   "version": "3.6.3"
  }
 },
 "nbformat": 4,
 "nbformat_minor": 1
}
